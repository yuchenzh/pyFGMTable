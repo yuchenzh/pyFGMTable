{
 "cells": [
  {
   "cell_type": "code",
   "execution_count": null,
   "metadata": {},
   "outputs": [],
   "source": [
    "import numpy as np\n",
    "import matplotlib.pyplot as plt\n",
    "import pandas as pd\n",
    "from copy import deepcopy\n",
    "from desert import isnum\n",
    "from pfunctions import getTimeSteps\n",
    "from FGMTableV3 import *\n",
    "from readOFFiles import *\n",
    "from scipy.interpolate import interp1d"
   ]
  },
  {
   "cell_type": "code",
   "execution_count": null,
   "metadata": {},
   "outputs": [],
   "source": [
    "FGMtableDict = {}\n",
    "FGMtableDict[\"route\"] = \"../../Cases/nhep1d/nhep1d5000/\"\n",
    "FGMtableDict[\"Zrange\"] = (0.,1.)\n",
    "FGMtableDict[\"fuelList\"] = [\"C7H16\"]\n",
    "FGMtableDict[\"gridNumber\"] = (301,501)\n",
    "FGMtableDict[\"gridPower\"] = (2,1)\n",
    "FGMtableDict[\"extraLookupFields\"] = [\"Qdot\", \"OH\",\"C7H15O2\"]\n",
    "FGMtableDict[\"PVFields\"] = [\"CO2\",\"CO\",\"HO2\",\"CH2O\",\"H2O\"]\n",
    "FGMtableDict[\"PVCoeffs\"] = [1.5, 0.9, 2.7, 1.5, 1.2]\n",
    "\n",
    "\n",
    "obj = FGMtable(FGMtableDict)\n",
    "obj = obj.Allrun(\"./\",\"tableV3/\")\n"
   ]
  }
 ],
 "metadata": {
  "kernelspec": {
   "display_name": "myenv",
   "language": "python",
   "name": "python3"
  },
  "language_info": {
   "codemirror_mode": {
    "name": "ipython",
    "version": 3
   },
   "file_extension": ".py",
   "mimetype": "text/x-python",
   "name": "python",
   "nbconvert_exporter": "python",
   "pygments_lexer": "ipython3",
   "version": "3.9.16"
  },
  "orig_nbformat": 4,
  "vscode": {
   "interpreter": {
    "hash": "eccfacc9a0b5b42361af511749228ea7789ecc0900770e1808bb7e67f0b314c2"
   }
  }
 },
 "nbformat": 4,
 "nbformat_minor": 2
}
