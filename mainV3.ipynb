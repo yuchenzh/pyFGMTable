{
 "cells": [
  {
   "cell_type": "code",
   "execution_count": 1,
   "metadata": {},
   "outputs": [],
   "source": [
    "import numpy as np\n",
    "import matplotlib.pyplot as plt\n",
    "import pandas as pd\n",
    "from copy import deepcopy\n",
    "from desert import isnum\n",
    "from pfunctions import getTimeSteps\n",
    "from FGMTableV3 import *\n",
    "from readOFFiles import *\n",
    "from scipy.interpolate import interp1d"
   ]
  },
  {
   "cell_type": "code",
   "execution_count": 2,
   "metadata": {},
   "outputs": [
    {
     "name": "stdout",
     "output_type": "stream",
     "text": [
      "ZRange: (0.0, 1.0)\n",
      "grid number in Z/C dimensions: (301, 501)\n",
      "grid power  in Z/C dimensions: (2, 1)\n",
      "PV expression: \n",
      "1.2xCO2+0.9xCO+2.7xHO2+1.5xCH2O+1.2xH2O\n",
      "Lookup Fields: ['thermo:psi', 'thermo:kappa', 'thermo:mu', 'T', 'PVMax', 'PVMin', 'SourcePV', 'C7H16', 'Qdot', 'OH', 'C7H15O2']\n",
      "\n",
      "\n",
      "Reading data from time = 0.0014973636364\n",
      "\n",
      "\n",
      "Converting data to pandas array\n",
      "\n",
      "Adding PV\n",
      "\n",
      "Adding SourcePV\n",
      "\n",
      "Constructing dataframe for all timesteps\n",
      "\tProcessing time = 0.0014973636364\n",
      "Get PVmin, PVmax, and scaledPV\n",
      "\n",
      "Get Z and PV grids\n",
      "\n",
      "Generating FGM tables\n",
      "Dealing with field thermo:psi\n",
      "Dealing with field thermo:kappa\n",
      "Dealing with field thermo:mu\n",
      "Dealing with field T\n",
      "Dealing with field SourcePV\n",
      "Dealing with field C7H16\n",
      "Dealing with field Qdot\n",
      "Dealing with field OH\n",
      "Dealing with field C7H15O2\n",
      "\n",
      "\n",
      "writing table_m3a1000/psi_table\n",
      "writing table_m3a1000/kappa_table\n",
      "writing table_m3a1000/mu_table\n",
      "writing table_m3a1000/T_table\n",
      "writing table_m3a1000/PVmax_table\n",
      "writing table_m3a1000/PVmin_table\n",
      "writing table_m3a1000/SourcePV_table\n",
      "writing table_m3a1000/C7H16_table\n",
      "writing table_m3a1000/Qdot_table\n",
      "writing table_m3a1000/OH_table\n",
      "writing table_m3a1000/C7H15O2_table\n",
      "writing table_m3a1000/Z_table\n",
      "writing table_m3a1000/scaledPV_table\n",
      "Reading psi_table\n",
      "Passing dimension check for field table_m3a1000/psi_table with size of the data = 150801\n",
      "Reading kappa_table\n",
      "Passing dimension check for field table_m3a1000/kappa_table with size of the data = 150801\n",
      "Reading mu_table\n",
      "Passing dimension check for field table_m3a1000/mu_table with size of the data = 150801\n",
      "Reading T_table\n",
      "Passing dimension check for field table_m3a1000/T_table with size of the data = 150801\n",
      "Reading PVmax_table\n",
      "Passing dimension check for field table_m3a1000/PVmax_table with size of the data = 150801\n",
      "Reading PVmin_table\n",
      "Passing dimension check for field table_m3a1000/PVmin_table with size of the data = 150801\n",
      "Reading SourcePV_table\n",
      "Passing dimension check for field table_m3a1000/SourcePV_table with size of the data = 150801\n",
      "Reading C7H16_table\n",
      "Passing dimension check for field table_m3a1000/C7H16_table with size of the data = 150801\n",
      "Reading Qdot_table\n",
      "Passing dimension check for field table_m3a1000/Qdot_table with size of the data = 150801\n",
      "Reading OH_table\n",
      "Passing dimension check for field table_m3a1000/OH_table with size of the data = 150801\n",
      "Reading C7H15O2_table\n",
      "Passing dimension check for field table_m3a1000/C7H15O2_table with size of the data = 150801\n"
     ]
    }
   ],
   "source": [
    "FGMtableDict = {}\n",
    "case1000AdaptiveRoute = \"../../Cases/nhep1d/nhep1d1000Adaptive/\"\n",
    "case1000Route         = \"../../Cases/nhep1d/nhep1d1000/\"\n",
    "case5000AdaptiveRoute = \"../../Cases/nhep1d/nhep1d5000Adaptive/\"\n",
    "case5000Route         = \"../../Cases/nhep1d/nhep1d5000/\"\n",
    "\n",
    "FGMtableDict[\"route\"] = case1000AdaptiveRoute\n",
    "FGMtableDict[\"Zrange\"] = (0.,1.)\n",
    "FGMtableDict[\"fuelList\"] = [\"C7H16\"]\n",
    "FGMtableDict[\"gridNumber\"] = (301,501)\n",
    "FGMtableDict[\"gridPower\"] = (2,1)\n",
    "FGMtableDict[\"extraLookupFields\"] = [\"Qdot\", \"OH\",\"C7H15O2\"]\n",
    "FGMtableDict[\"PVFields\"] = [\"CO2\",\"CO\",\"HO2\",\"CH2O\",\"H2O\"]\n",
    "FGMtableDict[\"PVCoeffs\"] = [1.2, 0.9, 2.7, 1.5, 1.2]\n",
    "\n",
    "\n",
    "obj = FGMtable(FGMtableDict)\n",
    "obj = obj.Allrun(\"./\",\"table_m3a1000/\")\n"
   ]
  },
  {
   "cell_type": "code",
   "execution_count": null,
   "metadata": {},
   "outputs": [],
   "source": [
    "Zgrid = np.linspace(0,1,301)*np.linspace(0,1,301)\n",
    "Cgrid = np.linspace(0,1,501)\n",
    "fieldNameList = [\"T\", \"psi\", \"kappa\", \"OH\", \"C7H15O2\",\"C7H16\",\"HRR\",\"SourcePV\",\"PVmax\",\"PVmin\"]\n",
    "c1dproperties = FGMtableProperties(\"../../Tabulations/tables/c1dtable/\", Zgrid, Cgrid, fieldNameList)\n",
    "c1dproperties()"
   ]
  },
  {
   "cell_type": "code",
   "execution_count": null,
   "metadata": {},
   "outputs": [],
   "source": []
  }
 ],
 "metadata": {
  "kernelspec": {
   "display_name": "myenv",
   "language": "python",
   "name": "python3"
  },
  "language_info": {
   "codemirror_mode": {
    "name": "ipython",
    "version": 3
   },
   "file_extension": ".py",
   "mimetype": "text/x-python",
   "name": "python",
   "nbconvert_exporter": "python",
   "pygments_lexer": "ipython3",
   "version": "3.9.0"
  },
  "orig_nbformat": 4,
  "vscode": {
   "interpreter": {
    "hash": "eccfacc9a0b5b42361af511749228ea7789ecc0900770e1808bb7e67f0b314c2"
   }
  }
 },
 "nbformat": 4,
 "nbformat_minor": 2
}
