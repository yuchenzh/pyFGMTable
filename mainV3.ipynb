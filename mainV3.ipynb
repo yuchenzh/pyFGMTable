{
 "cells": [
  {
   "cell_type": "code",
   "execution_count": null,
   "metadata": {},
   "outputs": [],
   "source": [
    "import numpy as np\n",
    "import matplotlib.pyplot as plt\n",
    "import pandas as pd\n",
    "from copy import deepcopy\n",
    "from desert import isnum\n",
    "from pfunctions import getTimeSteps\n",
    "from FGMTableV3 import *\n",
    "from readOFFiles import *\n",
    "from scipy.interpolate import interp1d"
   ]
  },
  {
   "cell_type": "code",
   "execution_count": null,
   "metadata": {},
   "outputs": [],
   "source": [
    "FGMtableDict = {}\n",
    "case5000Route = \"../Cases/df1d/dns5000long/\"\n",
    "\n",
    "FGMtableDict[\"route\"] = case5000Route\n",
    "FGMtableDict[\"Zrange\"] = (0.,1.)\n",
    "FGMtableDict[\"fuelList\"] = [\"C7H16\",\"NH3\"]\n",
    "FGMtableDict[\"gridNumber\"] = (301,501)\n",
    "FGMtableDict[\"gridPower\"] = (2,1)\n",
    "FGMtableDict[\"extraLookupFields\"] = [\"Qdot\", \"OH\",\"C7H15O2\"]\n",
    "FGMtableDict[\"PVFields\"] = [\"CO2\",\"CO\",\"HO2\",\"CH2O\",\"H2O\"]\n",
    "FGMtableDict[\"PVCoeffs\"] = [1.2, 0.9, 2.7, 1.5, 1.2]\n",
    "FGMtableDict[\"PVConstant\"] = 0.\n",
    "\n",
    "\n",
    "obj = FGMtable(FGMtableDict)\n",
    "obj = obj.Allrun(\"./\",\"table_am3a5000/\")\n"
   ]
  },
  {
   "cell_type": "code",
   "execution_count": null,
   "metadata": {},
   "outputs": [],
   "source": [
    "obj = 0\n",
    "print(obj)\n",
    "with open(\"./table_m3a5000/obj.pkl\",\"rb\") as myfile:\n",
    "    obj = pickle.load(myfile) "
   ]
  },
  {
   "cell_type": "code",
   "execution_count": 4,
   "metadata": {},
   "outputs": [
    {
     "name": "stdout",
     "output_type": "stream",
     "text": [
      "\n",
      "Adding ZIndex for post-processing\n",
      "\n",
      "\n",
      "\n",
      "Get PVmin, PVmax, and scaledPV for post-processing\n",
      "\n",
      "Adding CIndex for post-processing\n",
      "\n",
      "\n"
     ]
    },
    {
     "name": "stderr",
     "output_type": "stream",
     "text": [
      "/mnt/WD14TB/yuchen/workspace216/pyFGMTable/FGMTableV3.py:424: RuntimeWarning: Mean of empty slice\n",
      "  statisticsCabins[ZI][CI][lookupField][\"mean\"] = np.nanmean(resultCabins[ZI][CI][lookupField])\n"
     ]
    },
    {
     "ename": "FileNotFoundError",
     "evalue": "[Errno 2] No such file or directory: './table_m3a5000new//statistics/'",
     "output_type": "error",
     "traceback": [
      "\u001b[0;31m---------------------------------------------------------------------------\u001b[0m",
      "\u001b[0;31mFileNotFoundError\u001b[0m                         Traceback (most recent call last)",
      "Cell \u001b[0;32mIn[4], line 1\u001b[0m\n\u001b[0;32m----> 1\u001b[0m obj\u001b[39m.\u001b[39;49mstatistics(\u001b[39m\"\u001b[39;49m\u001b[39m./table_m3a5000new/\u001b[39;49m\u001b[39m\"\u001b[39;49m)\n",
      "File \u001b[0;32m/mnt/WD14TB/yuchen/workspace216/pyFGMTable/FGMTableV3.py:436\u001b[0m, in \u001b[0;36mFGMtable.statistics\u001b[0;34m(self, saveRoute)\u001b[0m\n\u001b[1;32m    434\u001b[0m targetRoute \u001b[39m=\u001b[39m saveRoute \u001b[39m+\u001b[39m \u001b[39m\"\u001b[39m\u001b[39m/\u001b[39m\u001b[39m\"\u001b[39m \u001b[39m+\u001b[39m \u001b[39m\"\u001b[39m\u001b[39mstatistics\u001b[39m\u001b[39m\"\u001b[39m \u001b[39m+\u001b[39m \u001b[39m\"\u001b[39m\u001b[39m/\u001b[39m\u001b[39m\"\u001b[39m\n\u001b[1;32m    435\u001b[0m \u001b[39mif\u001b[39;00m (\u001b[39mnot\u001b[39;00m os\u001b[39m.\u001b[39mpath\u001b[39m.\u001b[39misdir(targetRoute)):\n\u001b[0;32m--> 436\u001b[0m     os\u001b[39m.\u001b[39;49mmkdir(targetRoute)\n\u001b[1;32m    437\u001b[0m ZZ,CC \u001b[39m=\u001b[39m np\u001b[39m.\u001b[39mmeshgrid(\u001b[39mself\u001b[39m\u001b[39m.\u001b[39mZCenterList, \u001b[39mself\u001b[39m\u001b[39m.\u001b[39mCCenterList)\n\u001b[1;32m    438\u001b[0m \u001b[39mfor\u001b[39;00m fieldname \u001b[39min\u001b[39;00m \u001b[39mself\u001b[39m\u001b[39m.\u001b[39mlookupFields:\n",
      "\u001b[0;31mFileNotFoundError\u001b[0m: [Errno 2] No such file or directory: './table_m3a5000new//statistics/'"
     ]
    }
   ],
   "source": [
    "obj.statistics(\"./table_m3a5000new/\")"
   ]
  },
  {
   "cell_type": "code",
   "execution_count": null,
   "metadata": {},
   "outputs": [],
   "source": [
    "m3lrSpvDict = readOFScalarList(\"SourcePV_table\",\"./table_m3a5000longrepair/\")\n",
    "Spv = m3lrSpvDict[\"data\"]\n",
    "Spv = np.reshape(Spv,(301,501)).transpose()\n",
    "Spv[500,:] = 0\n",
    "plt.plot(Spv[500,:])\n",
    "Spv = Spv.transpose().reshape(-1)\n",
    "m3lrSpvDict[\"data\"] = Spv\n",
    "writeOFScalarList(m3lrSpvDict,\"./table_m3a5000longrepair/\")"
   ]
  },
  {
   "cell_type": "code",
   "execution_count": null,
   "metadata": {},
   "outputs": [],
   "source": []
  }
 ],
 "metadata": {
  "kernelspec": {
   "display_name": "myenv",
   "language": "python",
   "name": "python3"
  },
  "language_info": {
   "codemirror_mode": {
    "name": "ipython",
    "version": 3
   },
   "file_extension": ".py",
   "mimetype": "text/x-python",
   "name": "python",
   "nbconvert_exporter": "python",
   "pygments_lexer": "ipython3",
   "version": "3.9.0"
  },
  "orig_nbformat": 4,
  "vscode": {
   "interpreter": {
    "hash": "eccfacc9a0b5b42361af511749228ea7789ecc0900770e1808bb7e67f0b314c2"
   }
  }
 },
 "nbformat": 4,
 "nbformat_minor": 2
}
