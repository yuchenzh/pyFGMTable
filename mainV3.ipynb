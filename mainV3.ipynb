{
 "cells": [
  {
   "cell_type": "code",
   "execution_count": null,
   "metadata": {},
   "outputs": [],
   "source": [
    "import numpy as np\n",
    "import matplotlib.pyplot as plt\n",
    "import pandas as pd\n",
    "from copy import deepcopy\n",
    "from desert import isnum\n",
    "from pfunctions import getTimeSteps\n",
    "from FGMTableV3 import *\n",
    "from readOFFiles import *\n",
    "from scipy.interpolate import interp1d"
   ]
  },
  {
   "cell_type": "code",
   "execution_count": null,
   "metadata": {},
   "outputs": [],
   "source": [
    "FGMtableDict = {}\n",
    "case1000AdaptiveRoute = \"../../Cases/nhep1d/nhep1d1000Adaptive/\"\n",
    "case1000Route         = \"../../Cases/nhep1d/nhep1d1000/\"\n",
    "case5000AdaptiveRoute = \"../../Cases/nhep1d/nhep1d5000Adaptive/\"\n",
    "case5000Route         = \"../../Cases/nhep1d/nhep1d5000/\"\n",
    "case1000DualFuelRoute = \"../../Cases/dualFuel1d/DNS1000/\"\n",
    "case4000DualFuelRoute = \"../../Cases/dualFuel1d/DNS4000/\"\n",
    "case4000DualFuelRouteSmallDt = \"../../Cases/dualFuel1d/DNS4000smalldt2/\"\n",
    "case4000DualFuelCutRoute = \"../../Cases/dualFuel1d/DNS4000cut/\"\n",
    "\n",
    "FGMtableDict[\"route\"] = case5000AdaptiveRoute\n",
    "FGMtableDict[\"Zrange\"] = (0.,1.)\n",
    "FGMtableDict[\"fuelList\"] = [\"C7H16\"]\n",
    "FGMtableDict[\"gridNumber\"] = (301,501)\n",
    "FGMtableDict[\"gridPower\"] = (2,1)\n",
    "FGMtableDict[\"extraLookupFields\"] = [\"Qdot\", \"OH\",\"C7H15O2\"]\n",
    "FGMtableDict[\"PVFields\"] = [\"CO2\",\"CO\",\"HO2\",\"CH2O\",\"H2O\"]\n",
    "FGMtableDict[\"PVCoeffs\"] = [1.2, 0.9, 2.7, 1.5, 1.2]\n",
    "FGMtableDict[\"PVConstant\"] = 0.\n",
    "\n",
    "\n",
    "obj = FGMtable(FGMtableDict)\n",
    "obj = obj.Allrun(\"./\",\"table_m3a5000/\")\n"
   ]
  },
  {
   "cell_type": "code",
   "execution_count": null,
   "metadata": {},
   "outputs": [],
   "source": []
  },
  {
   "cell_type": "code",
   "execution_count": null,
   "metadata": {},
   "outputs": [],
   "source": [
    "from oneDCaseReader import oneDCaseReader\n",
    "index = 520\n",
    "plt.scatter(obj.pdFieldData[\"Z\"], obj.pdFieldData[\"PV\"],0.1)\n",
    "plt.plot(obj.pdInterpFieldData[index*301:(index+1)*301][\"Z\"],obj.pdInterpFieldData[index*301:(index+1)*301][\"PV\"],'k')\n",
    "plt.xlim([0,0.1])\n",
    "plt.ylim([0.20,0.28])"
   ]
  },
  {
   "cell_type": "code",
   "execution_count": null,
   "metadata": {},
   "outputs": [],
   "source": [
    "Zgrid = np.linspace(0,1,301)*np.linspace(0,1,301)\n",
    "Cgrid = np.linspace(0,1,501)\n",
    "fieldNameList = [\"T\", \"psi\", \"kappa\", \"OH\", \"C7H15O2\",\"C7H16\",\"HRR\",\"SourcePV\",\"PVmax\",\"PVmin\"]\n",
    "c1dproperties = FGMtableProperties(\"../../Tabulations/tables/c1dtable/\", Zgrid, Cgrid, fieldNameList)\n",
    "c1dproperties()"
   ]
  },
  {
   "cell_type": "code",
   "execution_count": null,
   "metadata": {},
   "outputs": [],
   "source": []
  }
 ],
 "metadata": {
  "kernelspec": {
   "display_name": "myenv",
   "language": "python",
   "name": "python3"
  },
  "language_info": {
   "codemirror_mode": {
    "name": "ipython",
    "version": 3
   },
   "file_extension": ".py",
   "mimetype": "text/x-python",
   "name": "python",
   "nbconvert_exporter": "python",
   "pygments_lexer": "ipython3",
   "version": "3.9.0"
  },
  "orig_nbformat": 4,
  "vscode": {
   "interpreter": {
    "hash": "eccfacc9a0b5b42361af511749228ea7789ecc0900770e1808bb7e67f0b314c2"
   }
  }
 },
 "nbformat": 4,
 "nbformat_minor": 2
}
