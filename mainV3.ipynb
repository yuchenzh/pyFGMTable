{
 "cells": [
  {
   "cell_type": "code",
   "execution_count": null,
   "metadata": {},
   "outputs": [],
   "source": [
    "import numpy as np\n",
    "import matplotlib.pyplot as plt\n",
    "import pandas as pd\n",
    "from copy import deepcopy\n",
    "from desert import isnum\n",
    "from pfunctions import getTimeSteps\n",
    "from FGMTableV3 import *\n",
    "from readOFFiles import *\n",
    "from scipy.interpolate import interp1d"
   ]
  },
  {
   "cell_type": "code",
   "execution_count": null,
   "metadata": {},
   "outputs": [],
   "source": [
    "FGMtableDict = {}\n",
    "FGMtableDict[\"route\"] = \"../../Cases/nhep1d/nhep1d5000/\"\n",
    "FGMtableDict[\"Zrange\"] = (0.,1.)\n",
    "FGMtableDict[\"fuelList\"] = [\"C7H16\"]\n",
    "FGMtableDict[\"gridNumber\"] = (301,501)\n",
    "FGMtableDict[\"gridPower\"] = (2,1)\n",
    "FGMtableDict[\"extraLookupFields\"] = [\"Qdot\", \"OH\",\"C7H15O2\"]\n",
    "FGMtableDict[\"PVFields\"] = [\"CO2\",\"CO\",\"HO2\",\"CH2O\",\"H2O\"]\n",
    "FGMtableDict[\"PVCoeffs\"] = [1.5, 0.9, 2.7, 1.5, 1.2]\n",
    "\n",
    "\n",
    "obj = FGMtable(FGMtableDict)\n",
    "obj = obj.Allrun(\"./\",\"tableV33/\")\n"
   ]
  },
  {
   "attachments": {},
   "cell_type": "markdown",
   "metadata": {},
   "source": [
    "## Testing code"
   ]
  },
  {
   "cell_type": "code",
   "execution_count": null,
   "metadata": {},
   "outputs": [],
   "source": [
    "ZZ = obj.ZList\n",
    "CC = obj.CList\n",
    "ZZ, CC = np.meshgrid(ZZ, CC)\n",
    "plt.pcolor(ZZ,CC, obj.FGMFields[\"C7H15O2\"],cmap = \"hot\")"
   ]
  },
  {
   "attachments": {},
   "cell_type": "markdown",
   "metadata": {},
   "source": [
    "### T field"
   ]
  },
  {
   "cell_type": "code",
   "execution_count": null,
   "metadata": {},
   "outputs": [],
   "source": [
    "table = obj.FGMFields[\"T\"]\n",
    "ZZ = obj.ZList\n",
    "CC = obj.CList\n",
    "ZZ,CC  = np.meshgrid(ZZ,CC)\n",
    "plt.pcolor(ZZ,CC,table,cmap = \"hot\")\n",
    "plt.xlabel(\"Z\")\n",
    "plt.ylabel(\"C\")\n",
    "plt.savefig(\"T.png\", dpi = 150)"
   ]
  },
  {
   "attachments": {},
   "cell_type": "markdown",
   "metadata": {},
   "source": [
    "### psi"
   ]
  },
  {
   "cell_type": "code",
   "execution_count": null,
   "metadata": {},
   "outputs": [],
   "source": [
    "table = obj.FGMFields[\"thermo:psi\"]\n",
    "ZZ = obj.ZList\n",
    "CC = obj.CList\n",
    "ZZ,CC  = np.meshgrid(ZZ,CC)\n",
    "plt.pcolor(ZZ,CC,table,cmap = \"hot\")\n",
    "plt.xlabel(\"Z\")\n",
    "plt.ylabel(\"C\")\n",
    "plt.savefig(\"psi.png\", dpi = 150)"
   ]
  },
  {
   "attachments": {},
   "cell_type": "markdown",
   "metadata": {},
   "source": [
    "### SourcePV "
   ]
  },
  {
   "cell_type": "code",
   "execution_count": null,
   "metadata": {},
   "outputs": [],
   "source": [
    "table = obj.FGMFields[\"SourcePV\"]\n",
    "ZZ = obj.ZList\n",
    "CC = obj.CList\n",
    "ZZ,CC  = np.meshgrid(ZZ,CC)\n",
    "plt.pcolor(ZZ,CC,table,cmap = \"hot\")\n",
    "plt.xlabel(\"Z\")\n",
    "plt.ylabel(\"C\")\n",
    "plt.savefig(\"SourcePV.png\", dpi = 150)"
   ]
  },
  {
   "cell_type": "code",
   "execution_count": null,
   "metadata": {},
   "outputs": [],
   "source": [
    "table = obj.FGMFields[\"C7H16\"]\n",
    "ZZ = obj.ZList\n",
    "CC = obj.CList\n",
    "ZZ,CC  = np.meshgrid(ZZ,CC)\n",
    "plt.pcolor(ZZ,CC,table,cmap = \"hot\")\n",
    "plt.xlabel(\"Z\")\n",
    "plt.ylabel(\"C\")\n",
    "plt.savefig(\"C7H16.png\", dpi = 150)"
   ]
  },
  {
   "cell_type": "code",
   "execution_count": null,
   "metadata": {},
   "outputs": [],
   "source": []
  },
  {
   "cell_type": "code",
   "execution_count": null,
   "metadata": {},
   "outputs": [],
   "source": [
    "resultDict = readOFScalarList(\"C7H16_table\",\"../tables/coarsenhepTable/\")\n",
    "table = np.reshape(resultDict[\"data\"],(301,501)).transpose()\n",
    "ZZ = obj.ZList\n",
    "CC = obj.CList\n",
    "ZZ,CC  = np.meshgrid(ZZ,CC)\n",
    "plt.pcolor(ZZ,CC,table,cmap = \"hot\")\n",
    "plt.xlabel(\"Z\")\n",
    "plt.ylabel(\"C\")\n",
    "plt.savefig(\"C7H16coarse.png\", dpi = 150)"
   ]
  }
 ],
 "metadata": {
  "kernelspec": {
   "display_name": "myenv",
   "language": "python",
   "name": "python3"
  },
  "language_info": {
   "codemirror_mode": {
    "name": "ipython",
    "version": 3
   },
   "file_extension": ".py",
   "mimetype": "text/x-python",
   "name": "python",
   "nbconvert_exporter": "python",
   "pygments_lexer": "ipython3",
   "version": "3.9.0"
  },
  "orig_nbformat": 4
 },
 "nbformat": 4,
 "nbformat_minor": 2
}
