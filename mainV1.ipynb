{
 "cells": [
  {
   "cell_type": "code",
   "execution_count": null,
   "metadata": {},
   "outputs": [],
   "source": [
    "import numpy as np\n",
    "import matplotlib.pyplot as plt\n",
    "import pandas as pd\n",
    "from copy import deepcopy\n",
    "from desert import isnum\n",
    "from pfunctions import getTimeSteps\n",
    "from FGMTableV1 import *\n",
    "from readOFFiles import *\n",
    "from scipy.interpolate import interp1d"
   ]
  },
  {
   "cell_type": "code",
   "execution_count": null,
   "metadata": {},
   "outputs": [],
   "source": [
    "FGMtableDict = {}\n",
    "FGMtableDict[\"Zrange\"] = (0.,1.)\n",
    "FGMtableDict[\"fuelList\"] = [\"C7H16\"]\n",
    "FGMtableDict[\"gridNumber\"] = (301,501)\n",
    "FGMtableDict[\"gridPower\"] = (2,1)\n",
    "FGMtableDict[\"extraLookupFields\"] = [\"Qdot\", \"OH\",\"C7H15O2\"]\n",
    "FGMtableDict[\"PVFields\"] = [\"CO2\",\"CO\",\"HO2\",\"CH2O\",\"H2O\"]\n",
    "FGMtableDict[\"PVCoeffs\"] = [1.5, 0.9, 2.7, 1.5, 1.2]\n",
    "\n",
    "\n",
    "obj = FGMtable(FGMtableDict)\n",
    "obj = obj.Allrun(\"../../Cases/nhep1d/nhep1d1000/\",\"./tableV1/\")\n"
   ]
  },
  {
   "attachments": {},
   "cell_type": "markdown",
   "metadata": {},
   "source": [
    "### Examine PV profiles"
   ]
  },
  {
   "cell_type": "code",
   "execution_count": null,
   "metadata": {},
   "outputs": [],
   "source": [
    "time0s, time0e = 0*1000, 1*1000\n",
    "time10s, time10e = 10*1000, 11*1000\n",
    "time20s, time20e = 20*1000, 21*1000\n",
    "time30s, time30e = 30*1000, 31*1000\n",
    "time40s, time40e = 40*1000, 41*1000\n",
    "time50s, time50e = 50*1000, 51*1000\n",
    "time60s, time60e = 60*1000, 61*1000\n",
    "time80s, time80e = 80*1000, 81*1000\n",
    "time100s, time100e = 99*1000, 100*1000\n",
    "\n",
    "plt.plot(obj.pdFieldData.iloc[time0s:time0e][\"Z\"], obj.pdFieldData.iloc[time0s:time0e][\"PV\"],label = \"time = 0 ms\")\n",
    "plt.plot(obj.pdFieldData.iloc[time10s:time10e][\"Z\"], obj.pdFieldData.iloc[time10s:time10e][\"PV\"],label = \"time = 0.1 ms\")\n",
    "plt.plot(obj.pdFieldData.iloc[time20s:time20e][\"Z\"], obj.pdFieldData.iloc[time20s:time20e][\"PV\"],label = \"time = 0.2 ms\")\n",
    "plt.plot(obj.pdFieldData.iloc[time30s:time30e][\"Z\"], obj.pdFieldData.iloc[time30s:time30e][\"PV\"],label = \"time = 0.3 ms\")\n",
    "plt.plot(obj.pdFieldData.iloc[time40s:time40e][\"Z\"], obj.pdFieldData.iloc[time40s:time40e][\"PV\"],label = \"time = 0.4 ms\")\n",
    "plt.plot(obj.pdFieldData.iloc[time50s:time50e][\"Z\"], obj.pdFieldData.iloc[time50s:time50e][\"PV\"],label = \"time = 0.5 ms\")\n",
    "plt.plot(obj.pdFieldData.iloc[time60s:time60e][\"Z\"], obj.pdFieldData.iloc[time60s:time60e][\"PV\"],label = \"time = 0.6 ms\")\n",
    "plt.plot(obj.pdFieldData.iloc[time80s:time80e][\"Z\"], obj.pdFieldData.iloc[time80s:time80e][\"PV\"],label = \"time = 0.8 ms\")\n",
    "plt.plot(obj.pdFieldData.iloc[time100s:time100e][\"Z\"], obj.pdFieldData.iloc[time100s:time100e][\"PV\"],label = \"time = 1 ms\")\n",
    "\n",
    "plt.legend()\n",
    "plt.xlabel(\"Z\")\n",
    "plt.ylabel(\"PV\")\n",
    "plt.savefig(\"PVwithTime1.png\",dpi = 250)"
   ]
  },
  {
   "cell_type": "code",
   "execution_count": null,
   "metadata": {},
   "outputs": [],
   "source": [
    "\n",
    "time40s, time40e = 40*1000, 41*1000\n",
    "time42s, time42e = 42*1000, 43*1000\n",
    "time44s, time44e = 44*1000, 45*1000\n",
    "time45s, time45e = 45*1000, 46*1000\n",
    "time46s, time46e = 46*1000, 47*1000\n",
    "time48s, time48e = 48*1000, 49*1000\n",
    "time52s, time52e = 52*1000, 53*1000\n",
    "time54s, time54e = 54*1000, 55*1000\n",
    "\n",
    "\n",
    "plt.plot(obj.pdFieldData.iloc[time40s:time40e][\"Z\"], obj.pdFieldData.iloc[time40s:time40e][\"PV\"],label = \"time = 0.40 ms\")\n",
    "plt.plot(obj.pdFieldData.iloc[time42s:time42e][\"Z\"], obj.pdFieldData.iloc[time42s:time42e][\"PV\"],label = \"time = 0.42 ms\")\n",
    "plt.plot(obj.pdFieldData.iloc[time44s:time44e][\"Z\"], obj.pdFieldData.iloc[time44s:time44e][\"PV\"],label = \"time = 0.44 ms\")\n",
    "plt.plot(obj.pdFieldData.iloc[time45s:time45e][\"Z\"], obj.pdFieldData.iloc[time45s:time45e][\"PV\"],label = \"time = 0.45 ms\")\n",
    "plt.plot(obj.pdFieldData.iloc[time46s:time46e][\"Z\"], obj.pdFieldData.iloc[time46s:time46e][\"PV\"],label = \"time = 0.46 ms\")\n",
    "plt.plot(obj.pdFieldData.iloc[time48s:time48e][\"Z\"], obj.pdFieldData.iloc[time48s:time48e][\"PV\"],label = \"time = 0.48 ms\")\n",
    "plt.plot(obj.pdFieldData.iloc[time52s:time52e][\"Z\"], obj.pdFieldData.iloc[time52s:time52e][\"PV\"],label = \"time = 0.52 ms\")\n",
    "plt.plot(obj.pdFieldData.iloc[time54s:time54e][\"Z\"], obj.pdFieldData.iloc[time54s:time54e][\"PV\"],label = \"time = 0.54 ms\")\n",
    "#plt.plot(obj.pdFieldData.iloc[time80s:time80e][\"Z\"], obj.pdFieldData.iloc[time80s:time80e][\"PV\"],label = \"time = 80 ms\")\n",
    "plt.plot(obj.pdFieldData.iloc[time100s:time100e][\"Z\"], obj.pdFieldData.iloc[time100s:time100e][\"PV\"],label = \"time = 1 ms\")\n",
    "\n",
    "plt.legend()\n",
    "plt.xlabel(\"Z\")\n",
    "plt.ylabel(\"PV\")\n",
    "plt.savefig(\"PVwithTime2.png\",dpi = 250)"
   ]
  },
  {
   "attachments": {},
   "cell_type": "markdown",
   "metadata": {},
   "source": [
    "## Examine whether Z-C space are filled "
   ]
  },
  {
   "cell_type": "code",
   "execution_count": null,
   "metadata": {},
   "outputs": [],
   "source": [
    "plt.scatter(obj.pdFieldData[\"Z\"],obj.pdFieldData[\"scaledPV\"], 1)\n",
    "plt.xlabel(\"Z\")\n",
    "plt.ylabel(\"C\")\n"
   ]
  },
  {
   "cell_type": "code",
   "execution_count": null,
   "metadata": {},
   "outputs": [],
   "source": []
  }
 ],
 "metadata": {
  "kernelspec": {
   "display_name": "myenv",
   "language": "python",
   "name": "python3"
  },
  "language_info": {
   "codemirror_mode": {
    "name": "ipython",
    "version": 3
   },
   "file_extension": ".py",
   "mimetype": "text/x-python",
   "name": "python",
   "nbconvert_exporter": "python",
   "pygments_lexer": "ipython3",
   "version": "3.9.16"
  },
  "orig_nbformat": 4,
  "vscode": {
   "interpreter": {
    "hash": "eccfacc9a0b5b42361af511749228ea7789ecc0900770e1808bb7e67f0b314c2"
   }
  }
 },
 "nbformat": 4,
 "nbformat_minor": 2
}
