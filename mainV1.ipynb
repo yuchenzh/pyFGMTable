{
 "cells": [
  {
   "cell_type": "code",
   "execution_count": 1,
   "metadata": {},
   "outputs": [],
   "source": [
    "import numpy as np\n",
    "import matplotlib.pyplot as plt\n",
    "import pandas as pd\n",
    "from copy import deepcopy\n",
    "from desert import isnum\n",
    "from pfunctions import getTimeSteps\n",
    "from FGMTableV1 import *\n",
    "from readOFFiles import *\n",
    "from scipy.interpolate import interp1d"
   ]
  },
  {
   "cell_type": "code",
   "execution_count": 2,
   "metadata": {},
   "outputs": [
    {
     "name": "stdout",
     "output_type": "stream",
     "text": [
      "ZRange: (0.0, 1.0)\n",
      "grid number in Z/C dimensions: (301, 501)\n",
      "grid power  in Z/C dimensions: (2, 1)\n",
      "PV expression: \n",
      "1.5xCO2+0.9xCO+2.7xHO2+1.5xCH2O+1.2xH2O\n",
      "Lookup Fields: ['thermo:psi', 'thermo:kappa', 'thermo:mu', 'T', 'PVMax', 'PVMin', 'SourcePV', 'C7H16', 'Qdot', 'OH', 'C7H15O2']\n",
      "\n",
      "\n",
      "Reading data from time = 0.00159\n",
      "\n",
      "\n",
      "Converting data to pandas array\n",
      "\n",
      "Adding ZIndex\n",
      "\tProcessing data entry 149999/150000\n",
      "\n",
      "\n",
      "Adding PV\n",
      "\n",
      "Adding SourcePV\n",
      "\n",
      "Adding PV Min/max\n",
      "\tProcessing data entry 149999/150000\n",
      "\n",
      "Empty Cabin List\n",
      "\t Empty cabin list 0 -> Z = 5.555555555555557e-06\n",
      "\t Empty cabin list 241 -> Z = 0.6480277777777779\n",
      "\t Empty cabin list 247 -> Z = 0.6806277777777778\n",
      "\t Empty cabin list 253 -> Z = 0.7140277777777779\n",
      "\t Empty cabin list 262 -> Z = 0.7656277777777778\n",
      "\t Empty cabin list 274 -> Z = 0.8372277777777779\n",
      "\n",
      "Calculating ScaledPV\n",
      "\tProcessing data entry 149999/150000\n",
      "\n",
      "\n",
      "Adding CIndex\n",
      "\tProcessing data entry 149999/150000\n",
      "\n",
      "\n",
      "Generating FGM tables in the cell centers\n",
      "\tProcessing data entry 149999/150000\n",
      "\n",
      "\n",
      "Interpolating from cell centers to cell nodes\n",
      "\tInterpolating field thermo:psi\n",
      "\tInterpolating field thermo:kappa\n",
      "\tInterpolating field thermo:mu\n",
      "\tInterpolating field T\n",
      "\tInterpolating field PVMax\n",
      "\tInterpolating field PVMin\n",
      "\tInterpolating field SourcePV\n",
      "\tInterpolating field C7H16\n",
      "\tInterpolating field Qdot\n",
      "\tInterpolating field OH\n",
      "\tInterpolating field C7H15O2\n",
      "\n",
      "\n",
      "writing ./tableV1/psi_table\n",
      "writing ./tableV1/kappa_table\n",
      "writing ./tableV1/mu_table\n",
      "writing ./tableV1/T_table\n",
      "writing ./tableV1/PVmax_table\n",
      "writing ./tableV1/PVmin_table\n",
      "writing ./tableV1/SourcePV_table\n",
      "writing ./tableV1/C7H16_table\n",
      "writing ./tableV1/Qdot_table\n",
      "writing ./tableV1/OH_table\n",
      "writing ./tableV1/C7H15O2_table\n"
     ]
    }
   ],
   "source": [
    "FGMtableDict = {}\n",
    "FGMtableDict[\"Zrange\"] = (0.,1.)\n",
    "FGMtableDict[\"fuelList\"] = [\"C7H16\"]\n",
    "FGMtableDict[\"gridNumber\"] = (301,501)\n",
    "FGMtableDict[\"gridPower\"] = (2,1)\n",
    "FGMtableDict[\"extraLookupFields\"] = [\"Qdot\", \"OH\",\"C7H15O2\"]\n",
    "FGMtableDict[\"PVFields\"] = [\"CO2\",\"CO\",\"HO2\",\"CH2O\",\"H2O\"]\n",
    "FGMtableDict[\"PVCoeffs\"] = [1.5, 0.9, 2.7, 1.5, 1.2]\n",
    "\n",
    "\n",
    "obj = FGMtable(FGMtableDict)\n",
    "obj = obj.Allrun(\"../../Cases/nhep1d/nhep1d1000/\",\"./tableV1/\")\n"
   ]
  },
  {
   "attachments": {},
   "cell_type": "markdown",
   "metadata": {},
   "source": [
    "### Examine PV profiles"
   ]
  },
  {
   "cell_type": "code",
   "execution_count": null,
   "metadata": {},
   "outputs": [],
   "source": [
    "time0s, time0e = 0*1000, 1*1000\n",
    "time10s, time10e = 10*1000, 11*1000\n",
    "time20s, time20e = 20*1000, 21*1000\n",
    "time30s, time30e = 30*1000, 31*1000\n",
    "time40s, time40e = 40*1000, 41*1000\n",
    "time50s, time50e = 50*1000, 51*1000\n",
    "time60s, time60e = 60*1000, 61*1000\n",
    "time80s, time80e = 80*1000, 81*1000\n",
    "time100s, time100e = 99*1000, 100*1000\n",
    "\n",
    "plt.plot(obj.pdFieldData.iloc[time0s:time0e][\"Z\"], obj.pdFieldData.iloc[time0s:time0e][\"PV\"],label = \"time = 0 ms\")\n",
    "plt.plot(obj.pdFieldData.iloc[time10s:time10e][\"Z\"], obj.pdFieldData.iloc[time10s:time10e][\"PV\"],label = \"time = 0.1 ms\")\n",
    "plt.plot(obj.pdFieldData.iloc[time20s:time20e][\"Z\"], obj.pdFieldData.iloc[time20s:time20e][\"PV\"],label = \"time = 0.2 ms\")\n",
    "plt.plot(obj.pdFieldData.iloc[time30s:time30e][\"Z\"], obj.pdFieldData.iloc[time30s:time30e][\"PV\"],label = \"time = 0.3 ms\")\n",
    "plt.plot(obj.pdFieldData.iloc[time40s:time40e][\"Z\"], obj.pdFieldData.iloc[time40s:time40e][\"PV\"],label = \"time = 0.4 ms\")\n",
    "plt.plot(obj.pdFieldData.iloc[time50s:time50e][\"Z\"], obj.pdFieldData.iloc[time50s:time50e][\"PV\"],label = \"time = 0.5 ms\")\n",
    "plt.plot(obj.pdFieldData.iloc[time60s:time60e][\"Z\"], obj.pdFieldData.iloc[time60s:time60e][\"PV\"],label = \"time = 0.6 ms\")\n",
    "plt.plot(obj.pdFieldData.iloc[time80s:time80e][\"Z\"], obj.pdFieldData.iloc[time80s:time80e][\"PV\"],label = \"time = 0.8 ms\")\n",
    "plt.plot(obj.pdFieldData.iloc[time100s:time100e][\"Z\"], obj.pdFieldData.iloc[time100s:time100e][\"PV\"],label = \"time = 1 ms\")\n",
    "\n",
    "plt.legend()\n",
    "plt.xlabel(\"Z\")\n",
    "plt.ylabel(\"PV\")\n",
    "plt.savefig(\"PVwithTime1.png\",dpi = 250)"
   ]
  },
  {
   "cell_type": "code",
   "execution_count": null,
   "metadata": {},
   "outputs": [],
   "source": [
    "\n",
    "time40s, time40e = 40*1000, 41*1000\n",
    "time42s, time42e = 42*1000, 43*1000\n",
    "time44s, time44e = 44*1000, 45*1000\n",
    "time45s, time45e = 45*1000, 46*1000\n",
    "time46s, time46e = 46*1000, 47*1000\n",
    "time48s, time48e = 48*1000, 49*1000\n",
    "time52s, time52e = 52*1000, 53*1000\n",
    "time54s, time54e = 54*1000, 55*1000\n",
    "\n",
    "\n",
    "plt.plot(obj.pdFieldData.iloc[time40s:time40e][\"Z\"], obj.pdFieldData.iloc[time40s:time40e][\"PV\"],label = \"time = 0.40 ms\")\n",
    "plt.plot(obj.pdFieldData.iloc[time42s:time42e][\"Z\"], obj.pdFieldData.iloc[time42s:time42e][\"PV\"],label = \"time = 0.42 ms\")\n",
    "plt.plot(obj.pdFieldData.iloc[time44s:time44e][\"Z\"], obj.pdFieldData.iloc[time44s:time44e][\"PV\"],label = \"time = 0.44 ms\")\n",
    "plt.plot(obj.pdFieldData.iloc[time45s:time45e][\"Z\"], obj.pdFieldData.iloc[time45s:time45e][\"PV\"],label = \"time = 0.45 ms\")\n",
    "plt.plot(obj.pdFieldData.iloc[time46s:time46e][\"Z\"], obj.pdFieldData.iloc[time46s:time46e][\"PV\"],label = \"time = 0.46 ms\")\n",
    "plt.plot(obj.pdFieldData.iloc[time48s:time48e][\"Z\"], obj.pdFieldData.iloc[time48s:time48e][\"PV\"],label = \"time = 0.48 ms\")\n",
    "plt.plot(obj.pdFieldData.iloc[time52s:time52e][\"Z\"], obj.pdFieldData.iloc[time52s:time52e][\"PV\"],label = \"time = 0.52 ms\")\n",
    "plt.plot(obj.pdFieldData.iloc[time54s:time54e][\"Z\"], obj.pdFieldData.iloc[time54s:time54e][\"PV\"],label = \"time = 0.54 ms\")\n",
    "#plt.plot(obj.pdFieldData.iloc[time80s:time80e][\"Z\"], obj.pdFieldData.iloc[time80s:time80e][\"PV\"],label = \"time = 80 ms\")\n",
    "plt.plot(obj.pdFieldData.iloc[time100s:time100e][\"Z\"], obj.pdFieldData.iloc[time100s:time100e][\"PV\"],label = \"time = 1 ms\")\n",
    "\n",
    "plt.legend()\n",
    "plt.xlabel(\"Z\")\n",
    "plt.ylabel(\"PV\")\n",
    "plt.savefig(\"PVwithTime2.png\",dpi = 250)"
   ]
  },
  {
   "attachments": {},
   "cell_type": "markdown",
   "metadata": {},
   "source": [
    "## Examine whether Z-C space are filled "
   ]
  },
  {
   "cell_type": "code",
   "execution_count": null,
   "metadata": {},
   "outputs": [],
   "source": [
    "tempZ = obj.pdFieldData[\"Z\"]\n",
    "tempC = obj.pdFieldData[\"scaledPV\"]\n",
    "plt.scatter(tempZ, tempC, 1)\n",
    "plt.xlabel(\"Z\")\n",
    "plt.ylabel(\"C\")\n",
    "\n",
    "plt.xlim((0,1))\n",
    "plt.ylim((0,1))\n",
    "plt.title(\"Fig.1 Some points in Z-C space don't have data\")\n",
    "plt.tight_layout()\n",
    "plt.savefig(\"fig1.png\",dpi=150)"
   ]
  },
  {
   "attachments": {},
   "cell_type": "markdown",
   "metadata": {},
   "source": [
    "## plot or compare table distributions "
   ]
  },
  {
   "cell_type": "code",
   "execution_count": null,
   "metadata": {},
   "outputs": [],
   "source": [
    "fieldDict = readOFScalarList(\"SourcePV_table\",\"./tableFromOF/\")\n",
    "Z = np.linspace(0,1,301)**2\n",
    "c = np.linspace(0,1,501)\n",
    "ZZ,cc = np.meshgrid(Z,c)\n",
    "data = fieldDict[\"data\"]\n",
    "data = np.reshape(data,(301,501))\n",
    "plt.figure(figsize = (17,6))\n",
    "plt.subplot(121)\n",
    "plt.pcolor(ZZ,cc,data.transpose(),cmap = \"hot\")\n",
    "plt.xlabel(\"Z\")\n",
    "plt.ylabel(\"C\")\n",
    "plt.tight_layout()\n",
    "plt.xlim((0,1))\n",
    "plt.ylim((0,1))\n",
    "\n",
    "plt.colorbar()\n",
    "plt.title(\"SourcePV with Z and scaledPV from chem1d\")\n",
    "\n",
    "plt.savefig(\"Fig2.psi.png\", dpi = 100)"
   ]
  }
 ],
 "metadata": {
  "kernelspec": {
   "display_name": "myenv",
   "language": "python",
   "name": "python3"
  },
  "language_info": {
   "codemirror_mode": {
    "name": "ipython",
    "version": 3
   },
   "file_extension": ".py",
   "mimetype": "text/x-python",
   "name": "python",
   "nbconvert_exporter": "python",
   "pygments_lexer": "ipython3",
   "version": "3.9.0"
  },
  "orig_nbformat": 4
 },
 "nbformat": 4,
 "nbformat_minor": 2
}
