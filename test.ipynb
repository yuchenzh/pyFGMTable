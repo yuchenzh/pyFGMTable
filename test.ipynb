{
 "cells": [
  {
   "cell_type": "code",
   "execution_count": 1,
   "metadata": {},
   "outputs": [],
   "source": [
    "import numpy as np\n",
    "import matplotlib.pyplot as plt\n",
    "\n"
   ]
  },
  {
   "cell_type": "code",
   "execution_count": 4,
   "metadata": {},
   "outputs": [
    {
     "name": "stdout",
     "output_type": "stream",
     "text": [
      "0.0\n"
     ]
    }
   ],
   "source": [
    "def isnum(a):\n",
    "    try:\n",
    "        float(a)\n",
    "        return True\n",
    "    except:\n",
    "        return False\n",
    "with open(\"./R_N2\", \"r+\") as myfile:\n",
    "    startFlag       = False\n",
    "    dimensionFlag   = False\n",
    "    endFlag         = False\n",
    "\n",
    "    dimension = 0\n",
    "    data      = []\n",
    "\n",
    "    for line in myfile.readlines():\n",
    "        line = line.strip(\"\\n\")\n",
    "        if (not startFlag):\n",
    "            if (\"internalField\" in line):\n",
    "                startFlag = True\n",
    "                if (\"uniform\" in line):\n",
    "                    info = line.replace(\"internalField\",\"\")\n",
    "                    info = info.replace(\"uniform\",\"\")\n",
    "                    info = info.replace(\";\",\"\")\n",
    "                    data = float(info)\n",
    "                    break\n",
    "        else: # startFlag on\n",
    "            if (not dimensionFlag):\n",
    "                if isnum(line):\n",
    "                    dimension = int(line)\n",
    "                    dimensionFlag = True\n",
    "            else: # startFlag on, dimensionFlag on\n",
    "                if (not endFlag):\n",
    "                    if (isnum(line)):\n",
    "                        data.append(float(line))\n",
    "                    elif (\")\" in line):\n",
    "                        endFlag = True\n",
    "                        break\n",
    "                    else:\n",
    "                        pass\n",
    "    print(data)"
   ]
  }
 ],
 "metadata": {
  "kernelspec": {
   "display_name": "myenv",
   "language": "python",
   "name": "python3"
  },
  "language_info": {
   "codemirror_mode": {
    "name": "ipython",
    "version": 3
   },
   "file_extension": ".py",
   "mimetype": "text/x-python",
   "name": "python",
   "nbconvert_exporter": "python",
   "pygments_lexer": "ipython3",
   "version": "3.9.16"
  },
  "orig_nbformat": 4,
  "vscode": {
   "interpreter": {
    "hash": "eccfacc9a0b5b42361af511749228ea7789ecc0900770e1808bb7e67f0b314c2"
   }
  }
 },
 "nbformat": 4,
 "nbformat_minor": 2
}
