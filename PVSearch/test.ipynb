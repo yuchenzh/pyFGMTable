{
 "cells": [
  {
   "cell_type": "code",
   "execution_count": null,
   "metadata": {},
   "outputs": [],
   "source": [
    "from functions import getTimeSteps, getNearestTime\n",
    "from TimeSteps import TimeSteps\n",
    "from readOFFiles import readOFField, readOFScalarList, writeOFScalarList\n",
    "from SignificantSpecies import significantSpecies\n",
    "import matplotlib.pyplot as plt\n",
    "import numpy as np\n",
    "import pandas as pd"
   ]
  },
  {
   "cell_type": "code",
   "execution_count": null,
   "metadata": {},
   "outputs": [],
   "source": [
    "significantSpeciesDict = {}\n",
    "significantSpeciesDict[\"caseRoute\"] = \"../Case/\"\n",
    "significantSpeciesDict[\"startTime\"] = 0.000\n",
    "significantSpeciesDict[\"endTime\"] = 0.05\n",
    "significantSpeciesDict[\"stepEvery\"] = 1\n",
    "significantSpeciesDict[\"speciesList\"] = [\"C2H2\",\"C2H3\",\"C2H4\",\"C2H5\",\"C2H5O2\",\\\n",
    "                                         \"C2H6\",\"C3H6\",\"C3H5O\",\"C3H6\",\"C7H14\",\\\n",
    "                                         \"C7H14O\",\"C7H14OOH\",\"C7H14OOHO2\",\"C7H15O2\",\"C7H15\",\\\n",
    "                                         \"C7H16\",\"CH2\",\"CH2O\",\"CH3\",\"CH3O\",\\\n",
    "                                         \"CH3O2\",\"CH3OH\",\"CH4\",\"CO\",\"CO2\",\\\n",
    "                                         \"H\",\"H2NN\",\"H2NO\",\"H2O\",\"H2O2\",\\\n",
    "                                        \"HCCO\",\"HE\",\"HNO\",\"HO2\",\"HONO\",\"HONO2\",\\\n",
    "                                        \"N2\",\"N\",\"N2H2\",\"N2H3\",\"NH\",\\\n",
    "                                        \"NH2\",\"NH3\",\"NNH\",\"NO\",\"NO2\",\\\n",
    "                                        \"O\",\"O2\",\"OH\"]\n",
    "\n",
    "ssObject = significantSpecies(significantSpeciesDict)"
   ]
  },
  {
   "cell_type": "code",
   "execution_count": null,
   "metadata": {},
   "outputs": [],
   "source": [
    "# extract the most import species\n",
    "speciesNames = ssObject.speciesList\n",
    "meanDirection = ssObject.optimizedPVDirection(startTime = 0.00, endTime = 0.0005, threshold=0.1)\n",
    "significance = abs(meanDirection)\n",
    "\n",
    "# construct a data frame from numpy array\n",
    "df = pd.DataFrame(meanDirection, index=speciesNames, columns=[\"precoeff\"])\n",
    "df[\"significance\"] = significance\n",
    "df.sort_values(by=[\"significance\"], ascending=False, inplace=True)"
   ]
  },
  {
   "cell_type": "code",
   "execution_count": null,
   "metadata": {},
   "outputs": [],
   "source": [
    "ssObject.generateSumRRi()"
   ]
  },
  {
   "cell_type": "code",
   "execution_count": null,
   "metadata": {},
   "outputs": [],
   "source": [
    "ssObject.generateSumRRiOverSpecies()\n",
    "columns = ssObject.SumRRiOverSpecies.columns\n",
    "\n",
    "\n",
    "print(np.size(columns))"
   ]
  },
  {
   "cell_type": "code",
   "execution_count": null,
   "metadata": {},
   "outputs": [],
   "source": [
    "plt.plot(ssObject.SumRRiOverSpecies[\"0.0035\"])\n",
    "plt.yscale(\"log\")"
   ]
  },
  {
   "cell_type": "code",
   "execution_count": null,
   "metadata": {},
   "outputs": [],
   "source": []
  }
 ],
 "metadata": {
  "kernelspec": {
   "display_name": "myenv",
   "language": "python",
   "name": "python3"
  },
  "language_info": {
   "codemirror_mode": {
    "name": "ipython",
    "version": 3
   },
   "file_extension": ".py",
   "mimetype": "text/x-python",
   "name": "python",
   "nbconvert_exporter": "python",
   "pygments_lexer": "ipython3",
   "version": "3.9.0"
  },
  "orig_nbformat": 4
 },
 "nbformat": 4,
 "nbformat_minor": 2
}
