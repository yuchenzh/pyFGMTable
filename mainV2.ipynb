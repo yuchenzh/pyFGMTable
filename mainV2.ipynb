{
 "cells": [
  {
   "cell_type": "code",
   "execution_count": null,
   "metadata": {},
   "outputs": [],
   "source": [
    "import numpy as np\n",
    "import matplotlib.pyplot as plt\n",
    "import pandas as pd\n",
    "from copy import deepcopy\n",
    "from desert import isnum\n",
    "from pfunctions import getTimeSteps\n",
    "from FGMTableV2 import *\n",
    "from readOFFiles import *\n",
    "from scipy.interpolate import interp1d\n",
    "from tableProperties import FGMtableProperties\n",
    "from lookup import lookup\n",
    "from oneDCaseReader import oneDCaseReader\n",
    "import pickle"
   ]
  },
  {
   "cell_type": "code",
   "execution_count": null,
   "metadata": {},
   "outputs": [],
   "source": [
    "import numpy as np\n",
    "\n",
    "# Define a non-square matrix\n",
    "matrix = np.array([[1, 2, 3],\n",
    "                   [4, 5, 6],\n",
    "                   [7, 8, 9],\n",
    "                   [10, 11, 12]])\n",
    "\n",
    "# Perform Singular Value Decomposition\n",
    "U, S, VT = np.linalg.svd(matrix)\n",
    "\n",
    "print(\"U:\")\n",
    "print(U)\n",
    "print(\"S:\")\n",
    "print(S)\n",
    "print(\"VT:\")\n",
    "print(VT)\n"
   ]
  },
  {
   "cell_type": "code",
   "execution_count": null,
   "metadata": {},
   "outputs": [],
   "source": [
    "matrix[-1,:]"
   ]
  },
  {
   "cell_type": "code",
   "execution_count": null,
   "metadata": {},
   "outputs": [],
   "source": [
    "a = np.array([[1,2,3],[2,4,6],[3,6,9],[2,4,6]])\n",
    "u,s,v = np.linalg.svd(a)\n",
    "u = np.delete(u, 3, axis = 1)\n",
    "print(\"u\")\n",
    "print(u)\n",
    "print(\"s\")\n",
    "print(s)\n",
    "print(\"v\")\n",
    "print(v)\n",
    "\n",
    "print(\"u*ut\")\n",
    "print(np.dot(u,u.transpose()))\n",
    "\n",
    "print(\"v*vt\")\n",
    "print(np.dot(v,v.transpose()))\n",
    "\n",
    "print(\"u*s*v\")\n",
    "print(np.dot(u,np.diag(s)))\n",
    "print(np.dot(np.dot(u,np.diag(s)),v))"
   ]
  },
  {
   "cell_type": "code",
   "execution_count": null,
   "metadata": {},
   "outputs": [],
   "source": [
    "FGMtableDict = {}\n",
    "case1000Route         = \"../Cases/nhep1d/dns1000/\"\n",
    "case5000Route         = \"../Cases/nhep1d/dns5000/\"\n",
    "\n",
    "\n",
    "FGMtableDict[\"route\"] = case5000Route\n",
    "FGMtableDict[\"Zrange\"] = (0.,1.)\n",
    "FGMtableDict[\"fuelList\"] = [\"C7H16\"]\n",
    "FGMtableDict[\"gridNumber\"] = (301,501)\n",
    "FGMtableDict[\"gridPower\"] = (2,1)\n",
    "FGMtableDict[\"extraLookupFields\"] = [\"Qdot\", \"OH\",\"C7H15O2\"]\n",
    "FGMtableDict[\"PVFields\"] = [\"N2\",\"CO2\",\"CO\",\"HO2\",\"CH2O\",\"H2O\"]\n",
    "FGMtableDict[\"PVCoeffs\"] = [1.,1.2, 0.9, 2.7, 1.5, 1.2]\n",
    "FGMtableDict[\"PVConstant\"] = 1.\n",
    "# FGMtableDict[\"PVFields\"] = [\"CO2\",\"CO\",\"HO2\",\"CH2O\",\"H2O\"]\n",
    "# FGMtableDict[\"PVCoeffs\"] = [1.2, 0.9, 2.7, 1.5, 1.2]\n",
    "# FGMtableDict[\"PVConstant\"] = 0.\n",
    "\n",
    "\n",
    "obj = FGMtable(FGMtableDict)\n",
    "obj.Allrun(\"./\",\"./table_m2a5000/\")"
   ]
  },
  {
   "cell_type": "code",
   "execution_count": null,
   "metadata": {},
   "outputs": [],
   "source": [
    "obj.statistics(\"./table_m2a5000/\")"
   ]
  },
  {
   "cell_type": "code",
   "execution_count": null,
   "metadata": {},
   "outputs": [],
   "source": [
    "with open(\"./table_m2a1000/obj.pkl\",\"rb\") as file:\n",
    "    obj = pickle.load(file)\n",
    "    \n",
    "obj.statistics()"
   ]
  },
  {
   "cell_type": "code",
   "execution_count": null,
   "metadata": {},
   "outputs": [],
   "source": [
    "dnscase = oneDCaseReader(\"../Cases/nhep1d/dnsStandard/\")\n",
    "spv16 = dnscase.readData(0.0032,\"SourcePV\")\n",
    "#spv05 = dnscase.readData(0.00055,\"SourcePV\")\n",
    "x = np.linspace(-0.000512,0.000512,1000)\n",
    "plt.plot(x,spv16,label = \"spv16\")\n",
    "#plt.plot(x,spv05,label = \"spv05\")\n",
    "plt.legend()"
   ]
  },
  {
   "cell_type": "code",
   "execution_count": null,
   "metadata": {},
   "outputs": [],
   "source": [
    "c1dSpvDict = readOFScalarList(\"SourcePV_table\",\"./table_c1d/\")\n",
    "c1dSpv = c1dSpvDict[\"data\"]\n",
    "c1dSpv = np.reshape(c1dSpv,(301,501)).transpose()\n",
    "\n",
    "m3SpvDict  = readOFScalarList(\"SourcePV_table\",\"./table_m3a5000/\")\n",
    "m3Spv  = m3SpvDict[\"data\"]\n",
    "m3Spv  = np.reshape(m3Spv, (301,501)).transpose()\n",
    "\n",
    "plt.subplot(211)\n",
    "plt.pcolor(c1dSpv)\n",
    "plt.colorbar()\n",
    "plt.subplot(212)\n",
    "plt.pcolor(m3Spv)\n",
    "plt.colorbar()"
   ]
  },
  {
   "cell_type": "code",
   "execution_count": null,
   "metadata": {},
   "outputs": [],
   "source": [
    "m3SpvFinal = m3Spv[500,:]\n",
    "c1dSpvFinal = c1dSpv[500,:]\n",
    "plt.plot(m3SpvFinal, label = \"method 3\")\n",
    "plt.plot(c1dSpvFinal, label = \"chem1d\")\n",
    "plt.legend()"
   ]
  },
  {
   "cell_type": "code",
   "execution_count": null,
   "metadata": {},
   "outputs": [],
   "source": [
    "m3SpvDict  = readOFScalarList(\"SourcePV_table\",\"./table_m3a5000repair/\")\n",
    "m3Spv  = m3SpvDict[\"data\"]\n",
    "m3Spv  = np.reshape(m3Spv, (301,501)).transpose()\n",
    "plt.plot(m3Spv[500,:])\n",
    "\n",
    "\n",
    "m3Spv = m3Spv.transpose().reshape(-1)\n",
    "m3SpvDict[\"data\"] = m3Spv\n",
    "\n",
    "writeOFScalarList(m3SpvDict,\"./table_m3a5000repair/\")"
   ]
  },
  {
   "cell_type": "code",
   "execution_count": null,
   "metadata": {},
   "outputs": [],
   "source": []
  }
 ],
 "metadata": {
  "kernelspec": {
   "display_name": "myenv",
   "language": "python",
   "name": "python3"
  },
  "language_info": {
   "codemirror_mode": {
    "name": "ipython",
    "version": 3
   },
   "file_extension": ".py",
   "mimetype": "text/x-python",
   "name": "python",
   "nbconvert_exporter": "python",
   "pygments_lexer": "ipython3",
   "version": "3.9.0"
  },
  "orig_nbformat": 4,
  "vscode": {
   "interpreter": {
    "hash": "eccfacc9a0b5b42361af511749228ea7789ecc0900770e1808bb7e67f0b314c2"
   }
  }
 },
 "nbformat": 4,
 "nbformat_minor": 2
}
