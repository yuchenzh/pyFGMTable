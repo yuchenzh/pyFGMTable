{
 "cells": [
  {
   "cell_type": "code",
   "execution_count": null,
   "metadata": {},
   "outputs": [],
   "source": [
    "import numpy as np\n",
    "import matplotlib.pyplot as plt\n",
    "import pandas as pd\n",
    "from copy import deepcopy\n",
    "from desert import isnum\n",
    "from pfunctions import getTimeSteps\n",
    "from FGMTableV2 import *\n",
    "from readOFFiles import *\n",
    "from scipy.interpolate import interp1d\n",
    "from tableProperties import FGMtableProperties\n",
    "from lookup import lookup\n",
    "from oneDCaseReader import oneDCaseReader\n",
    "import pickle"
   ]
  },
  {
   "cell_type": "code",
   "execution_count": null,
   "metadata": {},
   "outputs": [],
   "source": [
    "FGMtableDict = {}\n",
    "case1000AdaptiveRoute = \"../../Cases/nhep1d/nhep1d1000Adaptive/\"\n",
    "case1000Route         = \"../../Cases/nhep1d/nhep1d1000/\"\n",
    "case5000AdaptiveRoute = \"../../Cases/nhep1d/nhep1d5000Adaptive/\"\n",
    "case5000Route         = \"../../Cases/nhep1d/nhep1d5000/\"\n",
    "case1000DualFuelRoute = \"../../Cases/dualFuel1d/DNS1000/\"\n",
    "case4000DualFuelRoute = \"../../Cases/dualFuel1d/DNS4000/\"\n",
    "\n",
    "\n",
    "FGMtableDict[\"route\"] = case1000AdaptiveRoute\n",
    "FGMtableDict[\"Zrange\"] = (0.,1.)\n",
    "FGMtableDict[\"fuelList\"] = [\"C7H16\"]\n",
    "FGMtableDict[\"gridNumber\"] = (301,501)\n",
    "FGMtableDict[\"gridPower\"] = (2,1)\n",
    "FGMtableDict[\"extraLookupFields\"] = [\"Qdot\", \"OH\",\"C7H15O2\"]\n",
    "FGMtableDict[\"PVFields\"] = [\"N2\",\"CO2\",\"CO\",\"HO2\",\"CH2O\",\"H2O\"]\n",
    "FGMtableDict[\"PVCoeffs\"] = [1.,1.2, 0.9, 2.7, 1.5, 1.2]\n",
    "FGMtableDict[\"PVConstant\"] = 1.\n",
    "# FGMtableDict[\"PVFields\"] = [\"CO2\",\"CO\",\"HO2\",\"CH2O\",\"H2O\"]\n",
    "# FGMtableDict[\"PVCoeffs\"] = [1.2, 0.9, 2.7, 1.5, 1.2]\n",
    "# FGMtableDict[\"PVConstant\"] = 0.\n",
    "\n",
    "\n",
    "obj = FGMtable(FGMtableDict)\n",
    "obj.Allrun(\"./\",\"./table_m2a1000/\")"
   ]
  },
  {
   "cell_type": "code",
   "execution_count": null,
   "metadata": {},
   "outputs": [],
   "source": [
    "obj.statistics(\"./table_m2a1000/\")"
   ]
  },
  {
   "cell_type": "code",
   "execution_count": null,
   "metadata": {},
   "outputs": [],
   "source": [
    "with open(\"./table_m2a1000/obj.pkl\",\"rb\") as file:\n",
    "    obj = pickle.load(file)\n",
    "    \n",
    "obj.statistics()"
   ]
  }
 ],
 "metadata": {
  "kernelspec": {
   "display_name": "myenv",
   "language": "python",
   "name": "python3"
  },
  "language_info": {
   "codemirror_mode": {
    "name": "ipython",
    "version": 3
   },
   "file_extension": ".py",
   "mimetype": "text/x-python",
   "name": "python",
   "nbconvert_exporter": "python",
   "pygments_lexer": "ipython3",
   "version": "3.9.16"
  },
  "orig_nbformat": 4,
  "vscode": {
   "interpreter": {
    "hash": "eccfacc9a0b5b42361af511749228ea7789ecc0900770e1808bb7e67f0b314c2"
   }
  }
 },
 "nbformat": 4,
 "nbformat_minor": 2
}
